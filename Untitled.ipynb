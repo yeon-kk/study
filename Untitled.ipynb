{
 "cells": [
  {
   "cell_type": "code",
   "execution_count": 5,
   "metadata": {},
   "outputs": [
    {
     "name": "stdout",
     "output_type": "stream",
     "text": [
      "[[[ 1 -1]\n",
      "  [ 2 -2]\n",
      "  [ 3 -3]]\n",
      "\n",
      " [[ 4 -4]\n",
      "  [ 5 -5]\n",
      "  [ 6 -6]]]\n"
     ]
    }
   ],
   "source": [
    "import numpy as np\n",
    "a=np.array([[[1,-1],[2,-2],[3,-3]],[[4,-4],[5,-5],[6,-6]]])\n",
    "print(a)"
   ]
  },
  {
   "cell_type": "code",
   "execution_count": 10,
   "metadata": {},
   "outputs": [
    {
     "name": "stdout",
     "output_type": "stream",
     "text": [
      "[[[-1  1]\n",
      "  [-2  2]\n",
      "  [-3  3]]\n",
      "\n",
      " [[-4  4]\n",
      "  [-5  5]\n",
      "  [-6  6]]]\n"
     ]
    }
   ],
   "source": [
    "b=np.array([[[-1,1],[-2,2],[-3,3]],[[-4,4],[-5,5],[-6,6]]])\n",
    "print(b)"
   ]
  },
  {
   "cell_type": "code",
   "execution_count": 11,
   "metadata": {},
   "outputs": [
    {
     "data": {
      "text/plain": [
       "array([[[ -1,  -1],\n",
       "        [ -4,  -4],\n",
       "        [ -9,  -9]],\n",
       "\n",
       "       [[-16, -16],\n",
       "        [-25, -25],\n",
       "        [-36, -36]]])"
      ]
     },
     "execution_count": 11,
     "metadata": {},
     "output_type": "execute_result"
    }
   ],
   "source": [
    "a*b"
   ]
  },
  {
   "cell_type": "code",
   "execution_count": 9,
   "metadata": {},
   "outputs": [
    {
     "data": {
      "text/plain": [
       "array([[[ 10, -10],\n",
       "        [ 20, -20],\n",
       "        [ 30, -30]],\n",
       "\n",
       "       [[ 40, -40],\n",
       "        [ 50, -50],\n",
       "        [ 60, -60]]])"
      ]
     },
     "execution_count": 9,
     "metadata": {},
     "output_type": "execute_result"
    }
   ],
   "source": [
    "a*10"
   ]
  },
  {
   "cell_type": "code",
   "execution_count": null,
   "metadata": {},
   "outputs": [],
   "source": []
  }
 ],
 "metadata": {
  "kernelspec": {
   "display_name": "Python 3",
   "language": "python",
   "name": "python3"
  },
  "language_info": {
   "codemirror_mode": {
    "name": "ipython",
    "version": 3
   },
   "file_extension": ".py",
   "mimetype": "text/x-python",
   "name": "python",
   "nbconvert_exporter": "python",
   "pygments_lexer": "ipython3",
   "version": "3.8.5"
  }
 },
 "nbformat": 4,
 "nbformat_minor": 4
}
